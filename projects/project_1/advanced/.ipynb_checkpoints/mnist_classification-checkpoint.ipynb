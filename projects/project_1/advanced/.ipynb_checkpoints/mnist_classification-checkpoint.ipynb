{
 "cells": [
  {
   "cell_type": "markdown",
   "metadata": {},
   "source": [
    "### MNIST Classification projects\n",
    "\n",
    "In this project, I'm assigned to do classification on the MNIST handwritten digit, this is an old dataset for any Machine Learning Beginner. \n",
    "\n",
    "At the moment, I've learnt KNN, Naive Bayes, Decision Tree and SVM (convert to dual problem and solve by quadratic programming). After the first try with SVM quadratic programming with the following objective function:\n",
    "\n",
    "$$ g(\\lambda, \\mu) = \\min_{\\mathbf{w}, b, \\xi} \\mathcal{L}(\\mathbf{w}, b, \\xi, \\lambda, \\mu) $$\n",
    "$$ g(\\lambda, \\mu) = \\sum_{n=1}^N \\lambda_n - \\frac{1}{2} \\sum_{n=1}^N\\sum_{m=1}^N \\lambda_n \\lambda_m y_n y_m k(\\mathbf{x}_n^T, \\mathbf{x}_m) $$\n",
    "\n",
    "\\begin{eqnarray}\n",
    "     \\lambda &=& \\arg \\max_{\\lambda} g(\\lambda)   &&\\\\\n",
    "     \\text{subject to:}~ && \\sum_{n=1}^N \\lambda_ny_n = 0 && \\\\\n",
    "     && 0 \\leq \\lambda_n \\leq C, ~\\forall n= 1, 2, \\dots, N && \n",
    "\\end{eqnarray}\n",
    "\n",
    "I realize that it's impossible to compute $ k(\\mathbf{x}_n^T, \\mathbf{x}_m) $ for the number of dataset = 60000. One way to overcome this difficulty is that approach the problem in another way in SVM that we can use gradient descent or iterative methods and change the loss function, I will try this approach later.\n",
    "\n",
    "In this project, I do 2 algorithms in deep learning way: \n",
    "- Softmax Regression (no hidden layer)\n",
    "- Lenet (5 hiddens layer)\n",
    "\n",
    "--------------\n",
    " "
   ]
  },
  {
   "cell_type": "markdown",
   "metadata": {},
   "source": [
    "#### 1. Load MNIST dataset"
   ]
  },
  {
   "cell_type": "code",
   "execution_count": 1,
   "metadata": {
    "pycharm": {
     "is_executing": true
    },
    "scrolled": true
   },
   "outputs": [
    {
     "name": "stdout",
     "output_type": "stream",
     "text": [
      "-------> Downloading MNIST dataset\n",
      "-------> Finish\n"
     ]
    }
   ],
   "source": [
    "from utils import load_dataset_mnist, preprocess_data\n",
    "from mnist import MNIST\n",
    "from sklearn.preprocessing import StandardScaler\n",
    "\n",
    "load_dataset_mnist()\n",
    "\n",
    "mndata = MNIST('data_mnist')\n",
    "\n",
    "images, labels = mndata.load_training()"
   ]
  },
  {
   "cell_type": "markdown",
   "metadata": {},
   "source": [
    "#### 2. Training or Loading Lenet Model"
   ]
  },
  {
   "cell_type": "code",
   "execution_count": 2,
   "metadata": {
    "pycharm": {}
   },
   "outputs": [
    {
     "name": "stdout",
     "output_type": "stream",
     "text": [
      "WARNING:tensorflow:From /home/tgiang/Desktop/framgia-training/venv/lib/python3.5/site-packages/tensorflow/python/ops/resource_variable_ops.py:642: colocate_with (from tensorflow.python.framework.ops) is deprecated and will be removed in a future version.\n",
      "Instructions for updating:\n",
      "Colocations handled automatically by placer.\n",
      "Accuracy: 0.983\n",
      "Confusion matrix: \n",
      "[[ 970    0    2    0    0    2    1    1    1    3]\n",
      " [   0 1127    1    2    1    1    1    0    2    0]\n",
      " [   7    2 1010    2    2    1    2    4    2    0]\n",
      " [   0    0    4  995    0    2    0    2    5    2]\n",
      " [   1    0    2    0  971    0    3    0    0    5]\n",
      " [   1    0    0    3    0  883    4    1    0    0]\n",
      " [   4    3    1    0    1    6  939    0    4    0]\n",
      " [   0    4   13    2    0    1    0 1001    2    5]\n",
      " [   3    0    2    3    2    4    0    3  953    4]\n",
      " [   0    3    0    4    9    6    0    5    1  981]]\n"
     ]
    }
   ],
   "source": [
    "import os\n",
    "from lenet import Lenet\n",
    "import tensorflow as tf\n",
    "\n",
    "training_phase = \"saved_model\" not in os.listdir()\n",
    "\n",
    "lenet = Lenet(20, 64, tf.train.AdamOptimizer(learning_rate=0.001), tf.losses.softmax_cross_entropy)\n",
    "\n",
    "if training_phase:\n",
    "    images, labels = mndata.load_training()\n",
    "    images, labels = preprocess_data(images, labels, True)\n",
    "    lenet.train(images, labels)\n",
    "else:\n",
    "    images_test, labels_test = mndata.load_testing()\n",
    "    images_test, labels_test = preprocess_data(images_test, labels_test, True, True)\n",
    "\n",
    "    pred = lenet.predict(images_test)\n",
    "    print(\"Accuracy:\", len(labels_test[pred == labels_test]) / len(labels_test))  # 98%\n",
    "\n",
    "    from sklearn.metrics.classification import confusion_matrix\n",
    "    print(\"Confusion matrix: \")\n",
    "    print(confusion_matrix(labels_test, pred))\n"
   ]
  },
  {
   "cell_type": "markdown",
   "metadata": {},
   "source": [
    "------------------\n",
    "Accuracy is 98% with 20 epochs. Very well!"
   ]
  },
  {
   "cell_type": "markdown",
   "metadata": {},
   "source": [
    "#### 3. Training with Softmax Regression"
   ]
  },
  {
   "cell_type": "code",
   "execution_count": 3,
   "metadata": {},
   "outputs": [
    {
     "name": "stderr",
     "output_type": "stream",
     "text": [
      "/home/tgiang/Desktop/framgia-training/venv/lib/python3.5/site-packages/sklearn/preprocessing/_encoders.py:371: FutureWarning: The handling of integer data will change in version 0.22. Currently, the categories are determined based on the range [0, max(values)], while in the future they will be determined based on the unique values.\n",
      "If you want the future behaviour and silence this warning, you can specify \"categories='auto'\".\n",
      "In case you used a LabelEncoder before this OneHotEncoder to convert the categories to integers, then you can now use the OneHotEncoder directly.\n",
      "  warnings.warn(msg, FutureWarning)\n"
     ]
    },
    {
     "name": "stdout",
     "output_type": "stream",
     "text": [
      "Loss at epoch 1 14.57\n",
      "Loss at epoch 2 6.11\n",
      "Loss at epoch 3 4.53\n",
      "Loss at epoch 4 3.77\n",
      "Loss at epoch 5 3.32\n",
      "Loss at epoch 6 3.01\n",
      "Loss at epoch 7 2.77\n",
      "Loss at epoch 8 2.58\n",
      "Loss at epoch 9 2.44\n",
      "Loss at epoch 10 2.31\n",
      "Loss at epoch 11 2.20\n",
      "Loss at epoch 12 2.11\n",
      "Loss at epoch 13 2.02\n",
      "Loss at epoch 14 1.95\n",
      "Loss at epoch 15 1.88\n",
      "Loss at epoch 16 1.85\n",
      "Loss at epoch 17 1.79\n",
      "Loss at epoch 18 1.74\n",
      "Loss at epoch 19 1.69\n",
      "Loss at epoch 20 1.65\n",
      "Accuracy: 0.8721\n",
      "Confusion matrix: \n",
      "[[ 920    0    3    6    1   19   20    5    6    0]\n",
      " [   0 1073   12    6    1    5    5    8   24    1]\n",
      " [  16   18  877   29   21    6   19   14   29    3]\n",
      " [   5   10   27  860    3   52    6   16   20   11]\n",
      " [   2    4    6    3  874    3   15   15    7   53]\n",
      " [  16    5    3   38   13  727   25   17   39    9]\n",
      " [  16    4   13    1   15   23  878    4    3    1]\n",
      " [   3   14   26   14    5    4    3  896    4   59]\n",
      " [  16   20   16   30   32   35   16   17  779   13]\n",
      " [  13    7    3   15   64   13    1   44   12  837]]\n"
     ]
    }
   ],
   "source": [
    "from softmax_regression import SoftmaxRegression\n",
    "\n",
    "images, labels = mndata.load_training()\n",
    "images, labels = preprocess_data(images, labels)\n",
    "softmax = SoftmaxRegression(epochs=20)\n",
    "softmax.train(images, labels)\n",
    "\n",
    "images_test, labels_test = mndata.load_testing()\n",
    "images_test, labels_test = preprocess_data(images_test, labels_test, test=True)\n",
    "\n",
    "pred = softmax.predict(images_test)\n",
    "\n",
    "print(\"Accuracy:\", len(pred[labels_test == pred]) / len(pred))\n",
    "from sklearn.metrics.classification import confusion_matrix\n",
    "print(\"Confusion matrix: \")\n",
    "print(confusion_matrix(labels_test, pred))"
   ]
  },
  {
   "cell_type": "markdown",
   "metadata": {},
   "source": [
    "With softmax regression the accuracy is 87%! Not so bad."
   ]
  },
  {
   "cell_type": "code",
   "execution_count": null,
   "metadata": {},
   "outputs": [],
   "source": []
  }
 ],
 "metadata": {
  "kernelspec": {
   "display_name": "Python 3",
   "language": "python",
   "name": "python3"
  },
  "language_info": {
   "codemirror_mode": {
    "name": "ipython",
    "version": 3
   },
   "file_extension": ".py",
   "mimetype": "text/x-python",
   "name": "python",
   "nbconvert_exporter": "python",
   "pygments_lexer": "ipython3",
   "version": "3.5.2"
  }
 },
 "nbformat": 4,
 "nbformat_minor": 2
}
