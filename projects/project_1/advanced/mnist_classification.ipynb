{
 "cells": [
  {
   "cell_type": "markdown",
   "metadata": {},
   "source": [
    "### MNIST Classification projects\n",
    "\n",
    "In this project, I'm assigned to do classification on the MNIST handwritten digit, this is an old dataset for any Machine Learning Beginner. \n",
    "\n",
    "At the moment, I've learnt KNN, Naive Bayes, Decision Tree and SVM (convert to dual problem and solve by quadratic programming). After the first try with SVM quadratic programming with the following objective function:\n",
    "\n",
    "$$ g(\\lambda, \\mu) = \\min_{\\mathbf{w}, b, \\xi} \\mathcal{L}(\\mathbf{w}, b, \\xi, \\lambda, \\mu) $$\n",
    "$$ g(\\lambda, \\mu) = \\sum_{n=1}^N \\lambda_n - \\frac{1}{2} \\sum_{n=1}^N\\sum_{m=1}^N \\lambda_n \\lambda_m y_n y_m k(\\mathbf{x}_n^T, \\mathbf{x}_m) $$\n",
    "\n",
    "\\begin{eqnarray}\n",
    "     \\lambda &=& \\arg \\max_{\\lambda} g(\\lambda)   &&\\\\\n",
    "     \\text{subject to:}~ && \\sum_{n=1}^N \\lambda_ny_n = 0 && \\\\\n",
    "     && 0 \\leq \\lambda_n \\leq C, ~\\forall n= 1, 2, \\dots, N && \n",
    "\\end{eqnarray}\n",
    "\n",
    "I realize that it's impossible to compute $ k(\\mathbf{x}_n^T, \\mathbf{x}_m) $ for the number of dataset = 60000. One way to overcome this difficulty is that approach the problem in another way in SVM that we can use gradient descent or iterative methods and change the loss function, I will try this approach later.\n",
    "\n",
    "In this project, I do 2 algorithms in deep learning way: \n",
    "- Softmax Regression (no hidden layer)\n",
    "- Lenet (5 hiddens layer)\n",
    "\n",
    "--------------\n",
    " "
   ]
  },
  {
   "cell_type": "markdown",
   "metadata": {},
   "source": [
    "#### 1. Load MNIST dataset"
   ]
  },
  {
   "cell_type": "code",
   "execution_count": 1,
   "metadata": {
    "pycharm": {
     "is_executing": true
    },
    "scrolled": true
   },
   "outputs": [
    {
     "name": "stdout",
     "output_type": "stream",
     "text": [
      "-------> Downloading MNIST dataset\n",
      "-------> Finish\n"
     ]
    }
   ],
   "source": [
    "from utils import load_dataset_mnist, preprocess_data\n",
    "from mnist import MNIST\n",
    "from sklearn.preprocessing import StandardScaler\n",
    "\n",
    "load_dataset_mnist()\n",
    "\n",
    "mndata = MNIST('data_mnist')\n",
    "\n",
    "images, labels = mndata.load_training()"
   ]
  },
  {
   "cell_type": "markdown",
   "metadata": {},
   "source": [
    "#### 2. Training or Loading Lenet Model"
   ]
  },
  {
   "cell_type": "code",
   "execution_count": 2,
   "metadata": {
    "pycharm": {}
   },
   "outputs": [
    {
     "name": "stdout",
     "output_type": "stream",
     "text": [
      "WARNING:tensorflow:From /home/giangtran/Desktop/framgia-training/venv/lib/python3.6/site-packages/tensorflow/python/ops/resource_variable_ops.py:642: colocate_with (from tensorflow.python.framework.ops) is deprecated and will be removed in a future version.\n",
      "Instructions for updating:\n",
      "Colocations handled automatically by placer.\n",
      "[7 2 1 ... 4 5 6]\n",
      "Accuracy: 0.9799\n",
      "Confusion matrix: \n",
      "[[ 972    0    2    0    0    0    2    1    3    0]\n",
      " [   0 1128    1    2    0    1    2    1    0    0]\n",
      " [   5    2 1014    2    0    0    0    5    4    0]\n",
      " [   0    0    3  994    0    7    0    3    3    0]\n",
      " [   1    1    3    0  942    0    8    2    3   22]\n",
      " [   1    1    0    4    0  883    2    0    0    1]\n",
      " [   7    4    1    1    2    8  932    0    3    0]\n",
      " [   1    1   12    3    0    0    0 1008    2    1]\n",
      " [   3    0    2    5    1    3    0    2  956    2]\n",
      " [   3    6    0    3    6    7    1    7    6  970]]\n"
     ]
    }
   ],
   "source": [
    "import os\n",
    "from lenet import Lenet\n",
    "import tensorflow as tf\n",
    "\n",
    "training_phase = \"saved_model\" not in os.listdir()\n",
    "\n",
    "lenet = Lenet(20, 64, tf.train.AdamOptimizer(learning_rate=0.001), tf.losses.softmax_cross_entropy)\n",
    "\n",
    "if training_phase:\n",
    "    images, labels = mndata.load_training()\n",
    "    images, labels = preprocess_data(images, labels, True)\n",
    "    lenet.train(images, labels)\n",
    "else:\n",
    "    images_test, labels_test = mndata.load_testing()\n",
    "    images_test, labels_test = preprocess_data(images_test, labels_test, True, True)\n",
    "\n",
    "    pred = lenet.predict(images_test)\n",
    "    print(\"Accuracy:\", len(labels_test[pred == labels_test]) / len(labels_test))  # 98%\n",
    "\n",
    "    from sklearn.metrics.classification import confusion_matrix\n",
    "    print(\"Confusion matrix: \")\n",
    "    print(confusion_matrix(labels_test, pred))\n"
   ]
  },
  {
   "cell_type": "markdown",
   "metadata": {},
   "source": [
    "------------------\n",
    "Accuracy is 98% with 20 epochs. We can observe when looking at the confusion matrix that at the class 5, model misclassify to class 9 with the highest rate with 22. Also at class 7, model misclassify to class 2 with 12."
   ]
  },
  {
   "cell_type": "markdown",
   "metadata": {},
   "source": [
    "#### 3. Training with Softmax Regression"
   ]
  },
  {
   "cell_type": "code",
   "execution_count": 10,
   "metadata": {},
   "outputs": [
    {
     "name": "stderr",
     "output_type": "stream",
     "text": [
      "/home/giangtran/Desktop/framgia-training/venv/lib/python3.6/site-packages/sklearn/preprocessing/_encoders.py:368: FutureWarning: The handling of integer data will change in version 0.22. Currently, the categories are determined based on the range [0, max(values)], while in the future they will be determined based on the unique values.\n",
      "If you want the future behaviour and silence this warning, you can specify \"categories='auto'\".\n",
      "In case you used a LabelEncoder before this OneHotEncoder to convert the categories to integers, then you can now use the OneHotEncoder directly.\n",
      "  warnings.warn(msg, FutureWarning)\n"
     ]
    },
    {
     "name": "stdout",
     "output_type": "stream",
     "text": [
      "Loss at epoch 1 14.09\n",
      "Loss at epoch 2 6.05\n",
      "Loss at epoch 3 4.60\n",
      "Loss at epoch 4 3.91\n",
      "Loss at epoch 5 3.47\n",
      "Loss at epoch 6 3.15\n",
      "Loss at epoch 7 2.92\n",
      "Loss at epoch 8 2.74\n",
      "Loss at epoch 9 2.59\n",
      "Loss at epoch 10 2.45\n",
      "Loss at epoch 11 2.34\n",
      "Loss at epoch 12 2.23\n",
      "Loss at epoch 13 2.15\n",
      "Loss at epoch 14 2.07\n",
      "Loss at epoch 15 2.01\n",
      "Loss at epoch 16 1.94\n",
      "Loss at epoch 17 1.88\n",
      "Loss at epoch 18 1.83\n",
      "Loss at epoch 19 1.78\n",
      "Loss at epoch 20 1.73\n",
      "Accuracy: 0.8675\n",
      "Confusion matrix: \n",
      "[[ 928    0    4    5    4   17   12    5    4    1]\n",
      " [   2 1068   13    6    2    4    4    2   33    1]\n",
      " [  11   29  884   28   10    5   19   14   19   13]\n",
      " [   6   12   33  869    4   41    5   18   13    9]\n",
      " [   3    6    9    6  860    3   10   16   16   53]\n",
      " [  15   10    7   48   14  716   20   13   37   12]\n",
      " [  23    2    9    1   16   25  867    3    8    4]\n",
      " [   4   14   26   13   15    1    3  891    5   56]\n",
      " [   8   20   17   33   20   44   12   18  776   26]\n",
      " [   7    5    3   12   75   13    6   58   14  816]]\n"
     ]
    }
   ],
   "source": [
    "from softmax_regression import SoftmaxRegression\n",
    "\n",
    "images, labels = mndata.load_training()\n",
    "images, labels = preprocess_data(images, labels)\n",
    "softmax = SoftmaxRegression(epochs=20)\n",
    "softmax.train(images, labels)\n",
    "\n",
    "images_test, labels_test = mndata.load_testing()\n",
    "images_test, labels_test = preprocess_data(images_test, labels_test, test=True)\n",
    "\n",
    "pred = softmax.predict(images_test)\n",
    "\n",
    "print(\"Accuracy:\", len(pred[labels_test == pred]) / len(pred))\n",
    "from sklearn.metrics.classification import confusion_matrix\n",
    "print(\"Confusion matrix: \")\n",
    "print(confusion_matrix(labels_test, pred))"
   ]
  },
  {
   "cell_type": "markdown",
   "metadata": {},
   "source": [
    "With softmax regression the accuracy is 87%! Not so bad."
   ]
  },
  {
   "cell_type": "code",
   "execution_count": null,
   "metadata": {},
   "outputs": [],
   "source": []
  }
 ],
 "metadata": {
  "kernelspec": {
   "display_name": "Python 3",
   "language": "python",
   "name": "python3"
  },
  "language_info": {
   "codemirror_mode": {
    "name": "ipython",
    "version": 3
   },
   "file_extension": ".py",
   "mimetype": "text/x-python",
   "name": "python",
   "nbconvert_exporter": "python",
   "pygments_lexer": "ipython3",
   "version": "3.6.7"
  }
 },
 "nbformat": 4,
 "nbformat_minor": 2
}
